{
 "cells": [
  {
   "cell_type": "code",
   "execution_count": 1,
   "id": "ac2ee60a-d961-4ad7-80d6-b294c1ca06e2",
   "metadata": {},
   "outputs": [
    {
     "name": "stdout",
     "output_type": "stream",
     "text": [
      "member1이 작업함\n"
     ]
    }
   ],
   "source": [
    "print(\"member1이 작업함\")"
   ]
  },
  {
   "cell_type": "code",
   "execution_count": 2,
   "id": "0c87ccbe-1da3-4a79-ba49-81cf7ec19ab0",
   "metadata": {},
   "outputs": [
    {
     "name": "stdout",
     "output_type": "stream",
     "text": [
      "member1이 또 작업함\n"
     ]
    }
   ],
   "source": [
    "print(\"member1이 또 작업함\")"
   ]
  },
  {
   "cell_type": "code",
   "execution_count": 3,
   "id": "b7a0d39e-93f3-41c0-80e5-38f54e2f994c",
   "metadata": {},
   "outputs": [
    {
     "name": "stdout",
     "output_type": "stream",
     "text": [
      "branch에서 작업함\n"
     ]
    }
   ],
   "source": [
    "print(\"branch에서 작업함\")"
   ]
  }
 ],
 "metadata": {
  "kernelspec": {
   "display_name": "Python 3 (ipykernel)",
   "language": "python",
   "name": "python3"
  },
  "language_info": {
   "codemirror_mode": {
    "name": "ipython",
    "version": 3
   },
   "file_extension": ".py",
   "mimetype": "text/x-python",
   "name": "python",
   "nbconvert_exporter": "python",
   "pygments_lexer": "ipython3",
   "version": "3.11.5"
  }
 },
 "nbformat": 4,
 "nbformat_minor": 5
}
