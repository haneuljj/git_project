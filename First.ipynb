{
 "cells": [
  {
   "cell_type": "code",
   "execution_count": 1,
   "id": "ac2ee60a-d961-4ad7-80d6-b294c1ca06e2",
   "metadata": {},
   "outputs": [
    {
     "name": "stdout",
     "output_type": "stream",
     "text": [
      "member1이 작업함\n"
     ]
    }
   ],
   "source": [
    "print(\"member1이 작업함\")"
   ]
  },
  {
   "cell_type": "code",
   "execution_count": 2,
   "id": "0c87ccbe-1da3-4a79-ba49-81cf7ec19ab0",
   "metadata": {},
   "outputs": [
    {
     "name": "stdout",
     "output_type": "stream",
     "text": [
      "member1이 또 작업함\n"
     ]
    }
   ],
   "source": [
    "print(\"member1이 또 작업함\")"
   ]
  },
  {
   "cell_type": "code",
   "execution_count": 4,
   "id": "1724a12c-94d2-461e-9b84-1f4ad5523a95",
   "metadata": {},
   "outputs": [
    {
     "name": "stdout",
     "output_type": "stream",
     "text": [
      "브랜치 작업\n"
     ]
    }
   ],
   "source": [
    "print(\"브랜치 작업\")"
   ]
  },
  {
   "cell_type": "code",
   "execution_count": 1,
   "id": "5cff38fe-2425-461e-bd14-ece676d08f86",
   "metadata": {},
   "outputs": [
    {
     "name": "stdout",
     "output_type": "stream",
     "text": [
      "member2 작업\n"
     ]
    }
   ],
   "source": [
    "print(\"member2 작업\")"
   ]
  }
 ],
 "metadata": {
  "kernelspec": {
   "display_name": "Python 3 (ipykernel)",
   "language": "python",
   "name": "python3"
  },
  "language_info": {
   "codemirror_mode": {
    "name": "ipython",
    "version": 3
   },
   "file_extension": ".py",
   "mimetype": "text/x-python",
   "name": "python",
   "nbconvert_exporter": "python",
   "pygments_lexer": "ipython3",
   "version": "3.11.5"
  }
 },
 "nbformat": 4,
 "nbformat_minor": 5
}
